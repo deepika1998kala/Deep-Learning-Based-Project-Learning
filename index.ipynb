{
 "cells": [
  {
   "cell_type": "code",
   "execution_count": 10,
   "metadata": {},
   "outputs": [
    {
     "name": "stdout",
     "output_type": "stream",
     "text": [
      "Defaulting to user installation because normal site-packages is not writeable\n",
      "Requirement already satisfied: PyQt5 in /Users/deepikakala/Library/Python/3.9/lib/python/site-packages (5.15.10)\n",
      "Requirement already satisfied: PyQt5-Qt5>=5.15.2 in /Users/deepikakala/Library/Python/3.9/lib/python/site-packages (from PyQt5) (5.15.14)\n",
      "Requirement already satisfied: PyQt5-sip<13,>=12.13 in /Users/deepikakala/Library/Python/3.9/lib/python/site-packages (from PyQt5) (12.13.0)\n",
      "\u001b[33mWARNING: You are using pip version 21.2.4; however, version 24.0 is available.\n",
      "You should consider upgrading via the '/Library/Developer/CommandLineTools/usr/bin/python3 -m pip install --upgrade pip' command.\u001b[0m\n",
      "Note: you may need to restart the kernel to use updated packages.\n"
     ]
    }
   ],
   "source": [
    "pip install PyQt5\n"
   ]
  },
  {
   "cell_type": "code",
   "execution_count": 11,
   "metadata": {},
   "outputs": [
    {
     "name": "stdout",
     "output_type": "stream",
     "text": [
      "Defaulting to user installation because normal site-packages is not writeable\n",
      "Requirement already satisfied: keras in /Users/deepikakala/Library/Python/3.9/lib/python/site-packages (3.3.3)\n",
      "Requirement already satisfied: h5py in /Users/deepikakala/Library/Python/3.9/lib/python/site-packages (from keras) (3.11.0)\n",
      "Requirement already satisfied: numpy in /Users/deepikakala/Library/Python/3.9/lib/python/site-packages (from keras) (1.26.2)\n",
      "Requirement already satisfied: ml-dtypes in /Users/deepikakala/Library/Python/3.9/lib/python/site-packages (from keras) (0.3.2)\n",
      "Requirement already satisfied: rich in /Users/deepikakala/Library/Python/3.9/lib/python/site-packages (from keras) (13.7.1)\n",
      "Requirement already satisfied: absl-py in /Users/deepikakala/Library/Python/3.9/lib/python/site-packages (from keras) (2.1.0)\n",
      "Requirement already satisfied: namex in /Users/deepikakala/Library/Python/3.9/lib/python/site-packages (from keras) (0.0.8)\n",
      "Requirement already satisfied: optree in /Users/deepikakala/Library/Python/3.9/lib/python/site-packages (from keras) (0.11.0)\n",
      "Requirement already satisfied: typing-extensions>=4.0.0 in /Users/deepikakala/Library/Python/3.9/lib/python/site-packages (from optree->keras) (4.8.0)\n",
      "Requirement already satisfied: pygments<3.0.0,>=2.13.0 in /Users/deepikakala/Library/Python/3.9/lib/python/site-packages (from rich->keras) (2.16.1)\n",
      "Requirement already satisfied: markdown-it-py>=2.2.0 in /Users/deepikakala/Library/Python/3.9/lib/python/site-packages (from rich->keras) (3.0.0)\n",
      "Requirement already satisfied: mdurl~=0.1 in /Users/deepikakala/Library/Python/3.9/lib/python/site-packages (from markdown-it-py>=2.2.0->rich->keras) (0.1.2)\n",
      "\u001b[33mWARNING: You are using pip version 21.2.4; however, version 24.0 is available.\n",
      "You should consider upgrading via the '/Library/Developer/CommandLineTools/usr/bin/python3 -m pip install --upgrade pip' command.\u001b[0m\n",
      "Note: you may need to restart the kernel to use updated packages.\n"
     ]
    }
   ],
   "source": [
    "pip install keras"
   ]
  },
  {
   "cell_type": "code",
   "execution_count": 12,
   "metadata": {},
   "outputs": [
    {
     "name": "stdout",
     "output_type": "stream",
     "text": [
      "Defaulting to user installation because normal site-packages is not writeable\n",
      "Requirement already satisfied: tensorflow in /Users/deepikakala/Library/Python/3.9/lib/python/site-packages (2.16.1)\n",
      "Requirement already satisfied: absl-py>=1.0.0 in /Users/deepikakala/Library/Python/3.9/lib/python/site-packages (from tensorflow) (2.1.0)\n",
      "Requirement already satisfied: termcolor>=1.1.0 in /Users/deepikakala/Library/Python/3.9/lib/python/site-packages (from tensorflow) (2.4.0)\n",
      "Requirement already satisfied: protobuf!=4.21.0,!=4.21.1,!=4.21.2,!=4.21.3,!=4.21.4,!=4.21.5,<5.0.0dev,>=3.20.3 in /Users/deepikakala/Library/Python/3.9/lib/python/site-packages (from tensorflow) (4.25.3)\n",
      "Requirement already satisfied: google-pasta>=0.1.1 in /Users/deepikakala/Library/Python/3.9/lib/python/site-packages (from tensorflow) (0.2.0)\n",
      "Requirement already satisfied: ml-dtypes~=0.3.1 in /Users/deepikakala/Library/Python/3.9/lib/python/site-packages (from tensorflow) (0.3.2)\n",
      "Requirement already satisfied: numpy<2.0.0,>=1.23.5 in /Users/deepikakala/Library/Python/3.9/lib/python/site-packages (from tensorflow) (1.26.2)\n",
      "Requirement already satisfied: six>=1.12.0 in /Library/Developer/CommandLineTools/Library/Frameworks/Python3.framework/Versions/3.9/lib/python3.9/site-packages (from tensorflow) (1.15.0)\n",
      "Requirement already satisfied: tensorflow-io-gcs-filesystem>=0.23.1 in /Users/deepikakala/Library/Python/3.9/lib/python/site-packages (from tensorflow) (0.37.0)\n",
      "Requirement already satisfied: requests<3,>=2.21.0 in /Users/deepikakala/Library/Python/3.9/lib/python/site-packages (from tensorflow) (2.31.0)\n",
      "Requirement already satisfied: tensorboard<2.17,>=2.16 in /Users/deepikakala/Library/Python/3.9/lib/python/site-packages (from tensorflow) (2.16.2)\n",
      "Requirement already satisfied: flatbuffers>=23.5.26 in /Users/deepikakala/Library/Python/3.9/lib/python/site-packages (from tensorflow) (24.3.25)\n",
      "Requirement already satisfied: gast!=0.5.0,!=0.5.1,!=0.5.2,>=0.2.1 in /Users/deepikakala/Library/Python/3.9/lib/python/site-packages (from tensorflow) (0.5.4)\n",
      "Requirement already satisfied: typing-extensions>=3.6.6 in /Users/deepikakala/Library/Python/3.9/lib/python/site-packages (from tensorflow) (4.8.0)\n",
      "Requirement already satisfied: wrapt>=1.11.0 in /Users/deepikakala/Library/Python/3.9/lib/python/site-packages (from tensorflow) (1.16.0)\n",
      "Requirement already satisfied: grpcio<2.0,>=1.24.3 in /Users/deepikakala/Library/Python/3.9/lib/python/site-packages (from tensorflow) (1.64.0)\n",
      "Requirement already satisfied: h5py>=3.10.0 in /Users/deepikakala/Library/Python/3.9/lib/python/site-packages (from tensorflow) (3.11.0)\n",
      "Requirement already satisfied: keras>=3.0.0 in /Users/deepikakala/Library/Python/3.9/lib/python/site-packages (from tensorflow) (3.3.3)\n",
      "Requirement already satisfied: astunparse>=1.6.0 in /Users/deepikakala/Library/Python/3.9/lib/python/site-packages (from tensorflow) (1.6.3)\n",
      "Requirement already satisfied: libclang>=13.0.0 in /Users/deepikakala/Library/Python/3.9/lib/python/site-packages (from tensorflow) (18.1.1)\n",
      "Requirement already satisfied: opt-einsum>=2.3.2 in /Users/deepikakala/Library/Python/3.9/lib/python/site-packages (from tensorflow) (3.3.0)\n",
      "Requirement already satisfied: setuptools in /Library/Developer/CommandLineTools/Library/Frameworks/Python3.framework/Versions/3.9/lib/python3.9/site-packages (from tensorflow) (58.0.4)\n",
      "Requirement already satisfied: packaging in /Users/deepikakala/Library/Python/3.9/lib/python/site-packages (from tensorflow) (23.2)\n",
      "Requirement already satisfied: wheel<1.0,>=0.23.0 in /Library/Developer/CommandLineTools/Library/Frameworks/Python3.framework/Versions/3.9/lib/python3.9/site-packages (from astunparse>=1.6.0->tensorflow) (0.37.0)\n",
      "Requirement already satisfied: optree in /Users/deepikakala/Library/Python/3.9/lib/python/site-packages (from keras>=3.0.0->tensorflow) (0.11.0)\n",
      "Requirement already satisfied: rich in /Users/deepikakala/Library/Python/3.9/lib/python/site-packages (from keras>=3.0.0->tensorflow) (13.7.1)\n",
      "Requirement already satisfied: namex in /Users/deepikakala/Library/Python/3.9/lib/python/site-packages (from keras>=3.0.0->tensorflow) (0.0.8)\n",
      "Requirement already satisfied: urllib3<3,>=1.21.1 in /Users/deepikakala/Library/Python/3.9/lib/python/site-packages (from requests<3,>=2.21.0->tensorflow) (2.1.0)\n",
      "Requirement already satisfied: idna<4,>=2.5 in /Users/deepikakala/Library/Python/3.9/lib/python/site-packages (from requests<3,>=2.21.0->tensorflow) (3.4)\n",
      "Requirement already satisfied: certifi>=2017.4.17 in /Users/deepikakala/Library/Python/3.9/lib/python/site-packages (from requests<3,>=2.21.0->tensorflow) (2023.7.22)\n",
      "Requirement already satisfied: charset-normalizer<4,>=2 in /Users/deepikakala/Library/Python/3.9/lib/python/site-packages (from requests<3,>=2.21.0->tensorflow) (3.3.2)\n",
      "Requirement already satisfied: tensorboard-data-server<0.8.0,>=0.7.0 in /Users/deepikakala/Library/Python/3.9/lib/python/site-packages (from tensorboard<2.17,>=2.16->tensorflow) (0.7.2)\n",
      "Requirement already satisfied: markdown>=2.6.8 in /Users/deepikakala/Library/Python/3.9/lib/python/site-packages (from tensorboard<2.17,>=2.16->tensorflow) (3.6)\n",
      "Requirement already satisfied: werkzeug>=1.0.1 in /Library/Python/3.9/site-packages (from tensorboard<2.17,>=2.16->tensorflow) (2.3.7)\n",
      "Requirement already satisfied: importlib-metadata>=4.4 in /Library/Python/3.9/site-packages (from markdown>=2.6.8->tensorboard<2.17,>=2.16->tensorflow) (6.8.0)\n",
      "Requirement already satisfied: zipp>=0.5 in /Library/Python/3.9/site-packages (from importlib-metadata>=4.4->markdown>=2.6.8->tensorboard<2.17,>=2.16->tensorflow) (3.16.2)\n",
      "Requirement already satisfied: MarkupSafe>=2.1.1 in /Library/Python/3.9/site-packages (from werkzeug>=1.0.1->tensorboard<2.17,>=2.16->tensorflow) (2.1.3)\n",
      "Requirement already satisfied: pygments<3.0.0,>=2.13.0 in /Users/deepikakala/Library/Python/3.9/lib/python/site-packages (from rich->keras>=3.0.0->tensorflow) (2.16.1)\n",
      "Requirement already satisfied: markdown-it-py>=2.2.0 in /Users/deepikakala/Library/Python/3.9/lib/python/site-packages (from rich->keras>=3.0.0->tensorflow) (3.0.0)\n",
      "Requirement already satisfied: mdurl~=0.1 in /Users/deepikakala/Library/Python/3.9/lib/python/site-packages (from markdown-it-py>=2.2.0->rich->keras>=3.0.0->tensorflow) (0.1.2)\n",
      "\u001b[33mWARNING: You are using pip version 21.2.4; however, version 24.0 is available.\n",
      "You should consider upgrading via the '/Library/Developer/CommandLineTools/usr/bin/python3 -m pip install --upgrade pip' command.\u001b[0m\n",
      "Note: you may need to restart the kernel to use updated packages.\n"
     ]
    }
   ],
   "source": [
    "pip install tensorflow"
   ]
  },
  {
   "cell_type": "code",
   "execution_count": 13,
   "metadata": {},
   "outputs": [
    {
     "name": "stdout",
     "output_type": "stream",
     "text": [
      "Defaulting to user installation because normal site-packages is not writeable\n",
      "Requirement already satisfied: opencv-python in /Users/deepikakala/Library/Python/3.9/lib/python/site-packages (4.9.0.80)\n",
      "Requirement already satisfied: numpy>=1.21.0 in /Users/deepikakala/Library/Python/3.9/lib/python/site-packages (from opencv-python) (1.26.2)\n",
      "\u001b[33mWARNING: You are using pip version 21.2.4; however, version 24.0 is available.\n",
      "You should consider upgrading via the '/Library/Developer/CommandLineTools/usr/bin/python3 -m pip install --upgrade pip' command.\u001b[0m\n",
      "Note: you may need to restart the kernel to use updated packages.\n"
     ]
    }
   ],
   "source": [
    "pip install opencv-python"
   ]
  },
  {
   "cell_type": "code",
   "execution_count": 14,
   "metadata": {},
   "outputs": [
    {
     "name": "stdout",
     "output_type": "stream",
     "text": [
      "Defaulting to user installation because normal site-packages is not writeable\n",
      "Requirement already satisfied: imutils in /Users/deepikakala/Library/Python/3.9/lib/python/site-packages (0.5.4)\n",
      "\u001b[33mWARNING: You are using pip version 21.2.4; however, version 24.0 is available.\n",
      "You should consider upgrading via the '/Library/Developer/CommandLineTools/usr/bin/python3 -m pip install --upgrade pip' command.\u001b[0m\n",
      "Note: you may need to restart the kernel to use updated packages.\n"
     ]
    }
   ],
   "source": [
    "pip install imutils\n"
   ]
  },
  {
   "cell_type": "code",
   "execution_count": 15,
   "metadata": {},
   "outputs": [
    {
     "name": "stdout",
     "output_type": "stream",
     "text": [
      "Defaulting to user installation because normal site-packages is not writeable\n",
      "Requirement already satisfied: mahotas in /Users/deepikakala/Library/Python/3.9/lib/python/site-packages (1.4.15)\n",
      "Requirement already satisfied: numpy in /Users/deepikakala/Library/Python/3.9/lib/python/site-packages (from mahotas) (1.26.2)\n",
      "\u001b[33mWARNING: You are using pip version 21.2.4; however, version 24.0 is available.\n",
      "You should consider upgrading via the '/Library/Developer/CommandLineTools/usr/bin/python3 -m pip install --upgrade pip' command.\u001b[0m\n",
      "Note: you may need to restart the kernel to use updated packages.\n"
     ]
    }
   ],
   "source": [
    "pip install mahotas"
   ]
  },
  {
   "cell_type": "code",
   "execution_count": 16,
   "metadata": {},
   "outputs": [],
   "source": [
    "from PyQt5 import QtCore, QtGui, QtWidgets\n",
    "import numpy as np\n",
    "from keras.preprocessing import image\n",
    "from keras.models import Sequential\n",
    "from keras.layers import Dense\n",
    "from keras.models import model_from_json\n",
    "from keras.models import Sequential\n",
    "#initialize nn\n",
    "from keras.layers import Conv2D\n",
    "from keras.layers import MaxPooling2D\n",
    "from keras.layers import Flatten\n",
    "#convert pooling features space to large feature vector for fully\n",
    "#connected layer \n",
    "from tensorflow.keras.preprocessing.image import ImageDataGenerator\n",
    "from keras.layers import BatchNormalization\n",
    "from keras.layers import Dropout\n",
    "\n",
    "import os\n",
    "import cv2\n",
    "####################\n",
    "from imutils import contours\n",
    "from sklearn.cluster import KMeans\n",
    "from sklearn.cluster import spectral_clustering\n",
    "from sklearn.neural_network import MLPClassifier\n",
    "import csv\n",
    "import scipy\n",
    "import scipy.io as sio\n",
    "import imutils\n",
    "import os\n",
    "import mahotas as mt\n",
    "p=1;"
   ]
  },
  {
   "cell_type": "code",
   "execution_count": 17,
   "metadata": {},
   "outputs": [],
   "source": [
    "class Ui_MainWindow(object):\n",
    "    def setupUi(self, MainWindow):\n",
    "        MainWindow.setObjectName(\"MainWindow\")\n",
    "        MainWindow.resize(800, 600)\n",
    "        self.centralwidget = QtWidgets.QWidget(MainWindow)\n",
    "        self.centralwidget.setObjectName(\"centralwidget\")\n",
    "        self.BrowseImage = QtWidgets.QPushButton(self.centralwidget)\n",
    "        self.BrowseImage.setGeometry(QtCore.QRect(160, 370, 151, 51))\n",
    "        self.BrowseImage.setObjectName(\"BrowseImage\")\n",
    "        self.imageLbl = QtWidgets.QLabel(self.centralwidget)\n",
    "        self.imageLbl.setGeometry(QtCore.QRect(200, 80, 361, 261))\n",
    "        self.imageLbl.setFrameShape(QtWidgets.QFrame.Box)\n",
    "        self.imageLbl.setText(\"\")\n",
    "        self.imageLbl.setObjectName(\"imageLbl\")\n",
    "        self.label_2 = QtWidgets.QLabel(self.centralwidget)\n",
    "        self.label_2.setGeometry(QtCore.QRect(110, 20, 621, 20))\n",
    "        font = QtGui.QFont()\n",
    "        font.setFamily(\"Courier New\")\n",
    "        font.setPointSize(14)\n",
    "        font.setBold(True)\n",
    "        font.setWeight(75)\n",
    "        self.label_2.setFont(font)\n",
    "        self.label_2.setObjectName(\"label_2\")\n",
    "        self.Classify = QtWidgets.QPushButton(self.centralwidget)\n",
    "        self.Classify.setGeometry(QtCore.QRect(160, 450, 151, 51))\n",
    "        self.Classify.setObjectName(\"Classify\")\n",
    "        self.label = QtWidgets.QLabel(self.centralwidget)\n",
    "        self.label.setGeometry(QtCore.QRect(430, 370, 111, 16))\n",
    "        self.label.setObjectName(\"label\")\n",
    "        self.Training = QtWidgets.QPushButton(self.centralwidget)\n",
    "        self.Training.setGeometry(QtCore.QRect(400, 450, 151, 51))\n",
    "        self.Training.setObjectName(\"Training\")\n",
    "        self.textEdit = QtWidgets.QTextEdit(self.centralwidget)\n",
    "        self.textEdit.setGeometry(QtCore.QRect(400, 390, 211, 51))\n",
    "        self.textEdit.setObjectName(\"textEdit\")\n",
    "        MainWindow.setCentralWidget(self.centralwidget)\n",
    "        self.menubar = QtWidgets.QMenuBar(MainWindow)\n",
    "        self.menubar.setGeometry(QtCore.QRect(0, 0, 800, 26))\n",
    "        self.menubar.setObjectName(\"menubar\")\n",
    "        MainWindow.setMenuBar(self.menubar)\n",
    "        self.statusbar = QtWidgets.QStatusBar(MainWindow)\n",
    "        self.statusbar.setObjectName(\"statusbar\")\n",
    "        MainWindow.setStatusBar(self.statusbar)\n",
    "\n",
    "        self.retranslateUi(MainWindow)\n",
    "        QtCore.QMetaObject.connectSlotsByName(MainWindow)\n",
    "\n",
    "        self.BrowseImage.clicked.connect(self.loadImage)\n",
    "\n",
    "        self.Classify.clicked.connect(self.classifyFunction)\n",
    "\n",
    "        self.Training.clicked.connect(self.trainingFunction)        \n",
    "\n",
    "    def retranslateUi(self, MainWindow):\n",
    "        _translate = QtCore.QCoreApplication.translate\n",
    "        MainWindow.setWindowTitle(_translate(\"MainWindow\", \"MainWindow\"))\n",
    "        self.BrowseImage.setText(_translate(\"MainWindow\", \"Browse Image\"))\n",
    "        self.label_2.setText(_translate(\"MainWindow\", \"            COVID-19 DETECTION\"))\n",
    "        self.Classify.setText(_translate(\"MainWindow\", \"Classify\"))\n",
    "        self.label.setText(_translate(\"MainWindow\", \"Recognized Class\"))\n",
    "        self.Training.setText(_translate(\"MainWindow\", \"Training\"))\n",
    "\n",
    "    def loadImage(self):\n",
    "        fileName, _ = QtWidgets.QFileDialog.getOpenFileName(None, \"Select Image\", \"\", \"Image Files (*.png *.jpg *jpeg *.bmp);;All Files (*)\") # Ask for file\n",
    "        if fileName: # If the user gives a file\n",
    "            print(fileName)\n",
    "            self.file=fileName\n",
    "            pixmap = QtGui.QPixmap(fileName) # Setup pixmap with the provided image\n",
    "            pixmap = pixmap.scaled(self.imageLbl.width(), self.imageLbl.height(), QtCore.Qt.KeepAspectRatio) # Scale pixmap\n",
    "            self.imageLbl.setPixmap(pixmap) # Set the pixmap onto the label\n",
    "            self.imageLbl.setAlignment(QtCore.Qt.AlignCenter) # Align the label to center\n",
    "\n",
    "    def classifyFunction(self):\n",
    "        json_file = open('model.json', 'r')\n",
    "        loaded_model_json = json_file.read()\n",
    "        json_file.close()\n",
    "        loaded_model = model_from_json(loaded_model_json)\n",
    "        # load weights into new model\n",
    "        loaded_model.load_weights(\"model.h5\")\n",
    "        #loaded_model.load_weights(\"ResNet50-ft-10.model\")\n",
    "        print(\"Loaded model from disk\");\n",
    "        label=[\"Covid\",\"Normal\"]\n",
    "        path2=self.file\n",
    "        print(path2)\n",
    "        ########################\n",
    "        test_image = image.load_img(path2, target_size = (128, 128))        \n",
    "        test_image = image.img_to_array(test_image)\n",
    "        test_image = np.expand_dims(test_image, axis = 0)\n",
    "        result = loaded_model.predict(test_image)\n",
    "        print(result)\n",
    "        fresult=np.max(result)\n",
    "        label2=label[result.argmax()]\n",
    "        print(label2)\n",
    "        self.textEdit.setText(label2)\n",
    "\n",
    "    def trainingFunction(self):\n",
    "        self.textEdit.setText(\"Training under process...\")\n",
    "        #basic cnn\n",
    "        model = Sequential()\n",
    "        model.add(Conv2D(32, kernel_size = (3, 3), activation='relu', input_shape=(128,128, 3)))\n",
    "        model.add(MaxPooling2D(pool_size=(2,2)))\n",
    "        model.add(BatchNormalization())\n",
    "        model.add(Conv2D(64, kernel_size=(3,3), activation='relu'))\n",
    "        model.add(MaxPooling2D(pool_size=(2,2)))\n",
    "        model.add(BatchNormalization())\n",
    "        model.add(Conv2D(64, kernel_size=(3,3), activation='relu'))\n",
    "        model.add(MaxPooling2D(pool_size=(2,2)))\n",
    "        model.add(BatchNormalization())\n",
    "        model.add(Conv2D(96, kernel_size=(3,3), activation='relu'))\n",
    "        model.add(MaxPooling2D(pool_size=(2,2)))\n",
    "        model.add(BatchNormalization())\n",
    "        model.add(Conv2D(32, kernel_size=(3,3), activation='relu'))\n",
    "        model.add(MaxPooling2D(pool_size=(2,2)))\n",
    "        model.add(BatchNormalization())\n",
    "        model.add(Dropout(0.2))\n",
    "        model.add(Flatten())\n",
    "        model.add(Dense(128, activation='relu'))\n",
    "        model.add(Dropout(0.3))\n",
    "        model.add(Dense(2, activation = 'softmax'))\n",
    "\n",
    "        model.compile(optimizer = 'adam', loss = 'categorical_crossentropy', metrics = ['accuracy'])\n",
    "\n",
    "\n",
    "\n",
    "        train_datagen = ImageDataGenerator(rescale = None,\n",
    "                                           shear_range = 0.2,\n",
    "                                           zoom_range = 0.2,\n",
    "                                           horizontal_flip = True)\n",
    "\n",
    "        test_datagen = ImageDataGenerator(rescale = 1./255)\n",
    "\n",
    "        training_set = train_datagen.flow_from_directory('/Users/deepikakala/Documents/Pantech.AI/29_Covid19DetectionusingCNN/TrainingDataset',\n",
    "                                                         target_size = (128, 128),\n",
    "                                                         batch_size = 8,\n",
    "                                                         class_mode = 'categorical')\n",
    "        #print(test_datagen);\n",
    "        labels = (training_set.class_indices)\n",
    "        print(labels)\n",
    "        \n",
    "\n",
    "        test_set = test_datagen.flow_from_directory('/Users/deepikakala/Documents/Pantech.AI/29_Covid19DetectionusingCNN/TestingDataset',\n",
    "                                                    target_size = (128, 128),\n",
    "                                                    batch_size = 8,\n",
    "                                                    class_mode = 'categorical')\n",
    "\n",
    "        labels2 = (test_set.class_indices)\n",
    "        print(labels2)\n",
    "        #self.textEdit.setText(labels2)\n",
    "\n",
    "        model.fit(training_set,\n",
    "                                 steps_per_epoch = 100,\n",
    "                                 epochs = 10,\n",
    "                                 validation_data = test_set,\n",
    "                                 validation_steps = 125)\n",
    "\n",
    "\n",
    "        # Part 3 - Making new predictions\n",
    "\n",
    "        model_json=model.to_json()\n",
    "        with open(\"model.json\", \"w\") as json_file:\n",
    "            json_file.write(model_json)\n",
    "        # serialize weights to HDF5\n",
    "            model.save_weights(\"model.h5\")\n",
    "            print(\"Saved model to disk\")\n",
    "            self.textEdit.setText(\"Saved model to disk\")\n",
    "      "
   ]
  },
  {
   "cell_type": "code",
   "execution_count": 18,
   "metadata": {},
   "outputs": [
    {
     "ename": "",
     "evalue": "",
     "output_type": "error",
     "traceback": [
      "\u001b[1;31mThe Kernel crashed while executing code in the current cell or a previous cell. \n",
      "\u001b[1;31mPlease review the code in the cell(s) to identify a possible cause of the failure. \n",
      "\u001b[1;31mClick <a href='https://aka.ms/vscodeJupyterKernelCrash'>here</a> for more info. \n",
      "\u001b[1;31mView Jupyter <a href='command:jupyter.viewOutput'>log</a> for further details."
     ]
    }
   ],
   "source": [
    "if __name__ == \"__main__\":\n",
    "    import sys\n",
    "    app = QtWidgets.QApplication(sys.argv)\n",
    "    MainWindow = QtWidgets.QMainWindow()\n",
    "    ui = Ui_MainWindow()\n",
    "    ui.setupUi(MainWindow)\n",
    "    MainWindow.show()\n",
    "    sys.exit(app.exec_())"
   ]
  },
  {
   "cell_type": "code",
   "execution_count": null,
   "metadata": {},
   "outputs": [],
   "source": []
  }
 ],
 "metadata": {
  "kernelspec": {
   "display_name": "Python 3",
   "language": "python",
   "name": "python3"
  },
  "language_info": {
   "codemirror_mode": {
    "name": "ipython",
    "version": 3
   },
   "file_extension": ".py",
   "mimetype": "text/x-python",
   "name": "python",
   "nbconvert_exporter": "python",
   "pygments_lexer": "ipython3",
   "version": "3.9.6"
  }
 },
 "nbformat": 4,
 "nbformat_minor": 2
}
